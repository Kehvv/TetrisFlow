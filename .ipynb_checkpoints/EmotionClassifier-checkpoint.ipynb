{
 "cells": [
  {
   "cell_type": "code",
   "execution_count": 1,
   "metadata": {},
   "outputs": [
    {
     "name": "stderr",
     "output_type": "stream",
     "text": [
      "Using TensorFlow backend.\n"
     ]
    }
   ],
   "source": [
    "##https://towardsdatascience.com/building-a-convolutional-neural-network-cnn-in-keras-329fbbadc5f5\n",
    "##https://www.udemy.com/course/deep-learning-and-computer-vision/\n",
    "##https://medium.com/technologymadeeasy/the-best-explanation-of-convolutional-neural-networks-on-the-internet-fbb8b1ad5df8\n",
    "\n",
    "import keras\n",
    "from keras.models import Sequential\n",
    "from keras.layers import Conv2D, MaxPooling2D, AveragePooling2D\n",
    "from keras.layers import Dense, Activation, Dropout, Flatten\n",
    "\n",
    "from keras.preprocessing import image\n",
    "from keras.preprocessing.image import ImageDataGenerator\n",
    "import numpy as np"
   ]
  },
  {
   "cell_type": "code",
   "execution_count": 3,
   "metadata": {},
   "outputs": [],
   "source": [
    "num_classes = 7 #the dataset fer2013 has 7 classes for various emotions\n",
    "batch_size = 256 # number of batches taken at each forward and backward pass\n",
    "epochs = 5 #number of epochs. 1 epoch is 1 forward and 1 backwards pass\n"
   ]
  },
  {
   "cell_type": "code",
   "execution_count": 4,
   "metadata": {},
   "outputs": [],
   "source": [
    "#Store dataset in numpy array\n",
    "with open ('fer2013.csv') as f: \n",
    "    content = f.readlines()\n",
    "    \n",
    "lines = np.array(content)"
   ]
  },
  {
   "cell_type": "code",
   "execution_count": 5,
   "metadata": {},
   "outputs": [
    {
     "name": "stdout",
     "output_type": "stream",
     "text": [
      "instances : 35888\n"
     ]
    }
   ],
   "source": [
    "numInstances = lines.size\n",
    "print('instances :', numInstances)"
   ]
  },
  {
   "cell_type": "code",
   "execution_count": 6,
   "metadata": {},
   "outputs": [],
   "source": [
    "import pandas as pd"
   ]
  },
  {
   "cell_type": "code",
   "execution_count": 7,
   "metadata": {},
   "outputs": [],
   "source": [
    "dataset = pd.read_csv('fer2013.csv') #use pandas to read and store the dataset"
   ]
  },
  {
   "cell_type": "code",
   "execution_count": 8,
   "metadata": {},
   "outputs": [
    {
     "data": {
      "text/html": [
       "<div>\n",
       "<style scoped>\n",
       "    .dataframe tbody tr th:only-of-type {\n",
       "        vertical-align: middle;\n",
       "    }\n",
       "\n",
       "    .dataframe tbody tr th {\n",
       "        vertical-align: top;\n",
       "    }\n",
       "\n",
       "    .dataframe thead th {\n",
       "        text-align: right;\n",
       "    }\n",
       "</style>\n",
       "<table border=\"1\" class=\"dataframe\">\n",
       "  <thead>\n",
       "    <tr style=\"text-align: right;\">\n",
       "      <th></th>\n",
       "      <th>emotion</th>\n",
       "      <th>pixels</th>\n",
       "      <th>Usage</th>\n",
       "    </tr>\n",
       "  </thead>\n",
       "  <tbody>\n",
       "    <tr>\n",
       "      <th>0</th>\n",
       "      <td>0</td>\n",
       "      <td>70 80 82 72 58 58 60 63 54 58 60 48 89 115 121...</td>\n",
       "      <td>Training</td>\n",
       "    </tr>\n",
       "    <tr>\n",
       "      <th>1</th>\n",
       "      <td>0</td>\n",
       "      <td>151 150 147 155 148 133 111 140 170 174 182 15...</td>\n",
       "      <td>Training</td>\n",
       "    </tr>\n",
       "    <tr>\n",
       "      <th>2</th>\n",
       "      <td>2</td>\n",
       "      <td>231 212 156 164 174 138 161 173 182 200 106 38...</td>\n",
       "      <td>Training</td>\n",
       "    </tr>\n",
       "    <tr>\n",
       "      <th>3</th>\n",
       "      <td>4</td>\n",
       "      <td>24 32 36 30 32 23 19 20 30 41 21 22 32 34 21 1...</td>\n",
       "      <td>Training</td>\n",
       "    </tr>\n",
       "    <tr>\n",
       "      <th>4</th>\n",
       "      <td>6</td>\n",
       "      <td>4 0 0 0 0 0 0 0 0 0 0 0 3 15 23 28 48 50 58 84...</td>\n",
       "      <td>Training</td>\n",
       "    </tr>\n",
       "  </tbody>\n",
       "</table>\n",
       "</div>"
      ],
      "text/plain": [
       "   emotion                                             pixels     Usage\n",
       "0        0  70 80 82 72 58 58 60 63 54 58 60 48 89 115 121...  Training\n",
       "1        0  151 150 147 155 148 133 111 140 170 174 182 15...  Training\n",
       "2        2  231 212 156 164 174 138 161 173 182 200 106 38...  Training\n",
       "3        4  24 32 36 30 32 23 19 20 30 41 21 22 32 34 21 1...  Training\n",
       "4        6  4 0 0 0 0 0 0 0 0 0 0 0 3 15 23 28 48 50 58 84...  Training"
      ]
     },
     "execution_count": 8,
     "metadata": {},
     "output_type": "execute_result"
    }
   ],
   "source": [
    "dataset.head()"
   ]
  },
  {
   "cell_type": "code",
   "execution_count": 9,
   "metadata": {},
   "outputs": [],
   "source": [
    "x_train, y_train, x_test, y_test = [], [], [], []"
   ]
  },
  {
   "cell_type": "code",
   "execution_count": 10,
   "metadata": {},
   "outputs": [],
   "source": [
    "for i in range(1, numInstances): # loop from 1 to number of instances in dataset\n",
    "    try: #try catch\n",
    "        emotion, image, usage = lines[i].split(\",\") #split dataset by comma (csv file)\n",
    "        imgval = image.split(\" \") #remove white space\n",
    "        \n",
    "        pixels = np.array(imgval, 'float32') #convert image pixels to float32 as expected by CNN\n",
    "        \n",
    "        emotion = keras.utils.to_categorical(emotion, num_classes) #stores the emotion value as a binary matrix\n",
    "        \n",
    "        if 'Training' in usage: #filter values marked as training\n",
    "            y_train.append(emotion) #add emotion value as y train\n",
    "            x_train.append(pixels) #add image pixel value as x train\n",
    "        elif 'PublicTest' in usage: #filter values marked as testing\n",
    "            y_test.append(emotion) #add emotion value as y test\n",
    "            x_test.append(pixels) #add image pixel value as x test\n",
    "    except:\n",
    "        print(\"\", end=\"\")\n"
   ]
  },
  {
   "cell_type": "code",
   "execution_count": 11,
   "metadata": {},
   "outputs": [],
   "source": [
    "##converting all values to float32 as expected by CNN\n",
    "\n",
    "x_train = np.array(x_train, 'float32')\n",
    "y_train = np.array(y_train, 'float32')\n",
    "x_test = np.array(x_test, 'float32')\n",
    "y_test = np.array(y_test, 'float32')\n"
   ]
  },
  {
   "cell_type": "code",
   "execution_count": 12,
   "metadata": {},
   "outputs": [],
   "source": [
    "## pixel range is from 0 to 255. Must divide by 255 to get correct format for CNN\n",
    "x_train /= 255 \n",
    "x_test /= 255"
   ]
  },
  {
   "cell_type": "code",
   "execution_count": 13,
   "metadata": {},
   "outputs": [],
   "source": [
    "#model expects 48 x 48 pixels grey scale\n",
    "#reshaping x_train into 48 x 48 pixels with 1 colour channel(black & white)\n",
    "x_train = x_train.reshape(x_train.shape[0], 48,48, 1) \n",
    "x_train = x_train.astype('float32') #converting back to float32\n",
    "\n",
    "x_test = x_test.reshape(x_test.shape[0], 48,48, 1) \n",
    "x_test = x_test.astype('float32') #converting back to float32\n",
    "\n"
   ]
  },
  {
   "cell_type": "code",
   "execution_count": 14,
   "metadata": {
    "scrolled": true
   },
   "outputs": [
    {
     "name": "stdout",
     "output_type": "stream",
     "text": [
      "28709 train samples\n",
      "3589 test samples\n"
     ]
    }
   ],
   "source": [
    "#test to output the number of train and test samples before proceeding\n",
    "#don't want to accidentally proceed with no samples!\n",
    "\n",
    "print(x_train.shape[0], 'train samples')\n",
    "print(x_test.shape[0], 'test samples')"
   ]
  },
  {
   "cell_type": "code",
   "execution_count": 15,
   "metadata": {},
   "outputs": [],
   "source": [
    "#### constructing the CNN ####\n",
    "\n",
    "model = Sequential()\n",
    "## add convolutional layer ##\n",
    "\n",
    "## add Conv2D layer with activation type relu (rectified linear unit) \n",
    "## and input shape 48x48 with 1 colour channel\n",
    "\n",
    "## input shape required as first layer in model\n",
    "model.add(Conv2D(64, (5,5), activation = 'relu', input_shape=(48,48,1)))\n",
    "\n",
    "## add pooling layer ##\n",
    "## pooling used to downsample and reduce computation times\n",
    "\n",
    "## add MaxPooling2D layer, size corresponding to convolutional layer, with strides of 2 pixels\n",
    "model.add(MaxPooling2D(pool_size = (5,5), strides= (2,2)))\n",
    "\n",
    "##add more convolutional layers (this time no input shape required)\n",
    "\n",
    "model.add(Conv2D(64, (3,3), activation='relu'))\n",
    "model.add(Conv2D(64, (3,3), activation='relu'))\n",
    "\n",
    "##add another pooling layer - this time average pool\n",
    "\n",
    "model.add(AveragePooling2D(pool_size = (3,3), strides= (2,2)))\n",
    "\n",
    "##add another 2 convolutional layers\n",
    "\n",
    "model.add(Conv2D(128, (3,3), activation='relu'))\n",
    "model.add(Conv2D(128, (3,3), activation='relu'))\n",
    "\n",
    "##add another average pooling layer\n",
    "\n",
    "model.add(AveragePooling2D(pool_size = (3,3), strides= (2,2)))\n",
    "\n",
    "##add flatten layer\n",
    "\n",
    "model.add(Flatten())\n",
    "\n",
    "## add dense layer\n",
    "\n",
    "model.add(Dense(1024, activation = 'relu'))\n",
    "##add dropout layer\n",
    "model.add(Dropout(0.2))\n",
    "\n",
    "##add another hidden layers\n",
    "\n",
    "model.add(Dense(1024, activation = 'relu'))\n",
    "model.add(Dropout(0.2))\n",
    "\n",
    "##final dense layer\n",
    "model.add(Dense(num_classes, activation = 'softmax'))\n",
    "\n"
   ]
  },
  {
   "cell_type": "code",
   "execution_count": 16,
   "metadata": {},
   "outputs": [],
   "source": [
    "gen = ImageDataGenerator()\n",
    "\n",
    "train_generator = gen.flow(x_train, y_train, batch_size = batch_size)"
   ]
  },
  {
   "cell_type": "code",
   "execution_count": 17,
   "metadata": {},
   "outputs": [],
   "source": [
    "model.compile(loss = 'categorical_crossentropy',\n",
    "              optimizer = keras.optimizers.Adam(),\n",
    "              metrics = ['accuracy'])"
   ]
  },
  {
   "cell_type": "code",
   "execution_count": 18,
   "metadata": {},
   "outputs": [
    {
     "name": "stdout",
     "output_type": "stream",
     "text": [
      "Epoch 1/5\n",
      "256/256 [==============================] - 331s 1s/step - loss: 1.7955 - accuracy: 0.2550\n",
      "Epoch 2/5\n",
      "256/256 [==============================] - 324s 1s/step - loss: 1.6155 - accuracy: 0.3561\n",
      "Epoch 3/5\n",
      "256/256 [==============================] - 320s 1s/step - loss: 1.4611 - accuracy: 0.4319\n",
      "Epoch 4/5\n",
      "256/256 [==============================] - 321s 1s/step - loss: 1.3364 - accuracy: 0.4852\n",
      "Epoch 5/5\n",
      "256/256 [==============================] - 318s 1s/step - loss: 1.2496 - accuracy: 0.5243\n",
      "model saved to disk\n"
     ]
    }
   ],
   "source": [
    "model.fit_generator(train_generator, \n",
    "                    steps_per_epoch = batch_size, \n",
    "                    epochs = epochs)\n",
    "\n",
    "##saving model weiights and structure to file\n",
    "\n",
    "model_json = model.to_json()\n",
    "with open('facial_expression_model_structure.json', 'w') as json_file:\n",
    "    json_file.write(model_json)\n",
    "    \n",
    "model.save_weights('facial_expression_model_weights.h5')\n",
    "\n",
    "print('Model saved!')"
   ]
  },
  {
   "cell_type": "code",
   "execution_count": null,
   "metadata": {},
   "outputs": [],
   "source": []
  },
  {
   "cell_type": "code",
   "execution_count": null,
   "metadata": {},
   "outputs": [],
   "source": []
  }
 ],
 "metadata": {
  "kernelspec": {
   "display_name": "Python 3",
   "language": "python",
   "name": "python3"
  },
  "language_info": {
   "codemirror_mode": {
    "name": "ipython",
    "version": 3
   },
   "file_extension": ".py",
   "mimetype": "text/x-python",
   "name": "python",
   "nbconvert_exporter": "python",
   "pygments_lexer": "ipython3",
   "version": "3.7.0"
  }
 },
 "nbformat": 4,
 "nbformat_minor": 2
}
